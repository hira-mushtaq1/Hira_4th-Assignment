{
 "cells": [
  {
   "cell_type": "code",
   "execution_count": null,
   "id": "0ab1b06a",
   "metadata": {},
   "outputs": [
    {
     "name": "stdout",
     "output_type": "stream",
     "text": [
      "<function power at 0x04C4C970>\n",
      "Operation selection\n",
      "1. Addition\n",
      "2. Subtraction\n",
      "3. Multiplication\n",
      "4. Division\n",
      "5. Power of a number\n",
      "Enter any operation from 1 to 5: 1\n",
      "Enter first number: 2\n",
      "Enter second number2\n",
      "2.0 + 2.0 = 4.0\n",
      "Enter any operation from 1 to 5: 3\n",
      "Enter first number: 2\n",
      "Enter second number3\n",
      "2.0 * 3.0 = 6.0\n",
      "Enter any operation from 1 to 5: 2\n",
      "Enter first number: 4\n",
      "Enter second number3\n",
      "4.0 - 3.0 = 1.0\n"
     ]
    }
   ],
   "source": [
    "# for addition\n",
    "def add(x,y):     # add two numbers\n",
    "    return x+y\n",
    " # for subtraction\n",
    "def subtract(x,y):     # subtract two numbers\n",
    "    return x-y\n",
    "# for multiplication\n",
    "def multiply(x,y):     # multiply two numbers\n",
    "    return x * y\n",
    "# for division\n",
    "    def division(x,y):    # divide two numbers\n",
    "        return x / y\n",
    "# for power\n",
    "def power(x,y): # x=base , y= exponent\n",
    "    x= int(input(\"Enter any number: \"))\n",
    "    y=int( input(\"Enter any number: \"))\n",
    "    power_l=1\n",
    "    for i in range(1,y+1):\n",
    "        power_l=power_l*x\n",
    "        y-=1\n",
    "b=print(power)\n",
    "\n",
    "print(\"Operation selection\")\n",
    "print(\"1. Addition\")\n",
    "print(\"2. Subtraction\")\n",
    "print(\"3. Multiplication\")\n",
    "print(\"4. Division\")\n",
    "print(\"5. Power of a number\")\n",
    "while True:\n",
    "    operation=input(\"Enter any operation from 1 to 5: \")\n",
    "    if operation in ('1', '2', '3', '4', '5'):\n",
    "        num1= float(input(\"Enter first number: \"))\n",
    "        num2= float(input(\"Enter second number\"))\n",
    "    \n",
    "        if operation=='1':\n",
    "            print (num1, '+', num2, '=', add(num1, num2))\n",
    "        elif operation=='2':\n",
    "            print(num1, '-', num2, '=', subtract(num1, num2))\n",
    "        elif operation=='3':\n",
    "            print(num1, '*', num2, '=', multiply(num1, num2))\n",
    "        elif operation=='4':\n",
    "            print(num1, '/', num2, '=', division(num1, num2))\n",
    "    else:\n",
    "        print (\"Invalid Operation or Input\")"
   ]
  },
  {
   "cell_type": "code",
   "execution_count": 1,
   "id": "ca41273d",
   "metadata": {},
   "outputs": [
    {
     "name": "stdout",
     "output_type": "stream",
     "text": [
      "3\n",
      "4\n",
      "6\n"
     ]
    }
   ],
   "source": [
    "# Q2. Write a program to check if there is any numeric value in list using foor loop.\n",
    "a  = [\"hira\",\"mushtaq\", \"abcf\", 3,4,6, \"xyz\"] \n",
    "for i in a: \n",
    "    if type(i) == int: \n",
    "        print(i)\n",
    "        "
   ]
  },
  {
   "cell_type": "code",
   "execution_count": 2,
   "id": "728ec5a2",
   "metadata": {},
   "outputs": [
    {
     "name": "stdout",
     "output_type": "stream",
     "text": [
      "Current Dict is:  {1: 'Ahmed', 2: 'Hira'}\n",
      "Updated Dict is:  {1: 'Ahmed', 2: 'Hira', 3: 'Mehar'}\n"
     ]
    }
   ],
   "source": [
    "#Q3. Write a python script to add a key to a dictionary.\n",
    "a = {1:'Ahmed', 2: 'Hira'} \n",
    "\n",
    "print(\"Current Dict is: \", a) \n",
    "\n",
    "  \n",
    "# using the subscript notation \n",
    "# Dictionary_Name[New_Key_Name] = New_Key_Value \n",
    "\n",
    "a[3] = 'Mehar'\n",
    "\n",
    "print(\"Updated Dict is: \", a)"
   ]
  },
  {
   "cell_type": "code",
   "execution_count": 3,
   "id": "9cc174e3",
   "metadata": {},
   "outputs": [
    {
     "name": "stdout",
     "output_type": "stream",
     "text": [
      "Sum : 6\n"
     ]
    }
   ],
   "source": [
    "#Q4. Write a python program to sum all the numeric items in a dictionary.\n",
    "\n",
    "# Function to print sum\n",
    "def returnSum(myDict):\n",
    "\n",
    "    list = []\n",
    "    for i in myDict:\n",
    "        list.append(myDict[i])\n",
    "    final = sum(list)\n",
    "\n",
    "    return final\n",
    "\n",
    "# Driver Function\n",
    "dict = {'a': 1, 'b':2, 'c':3}\n",
    "print(\"Sum :\", returnSum(dict))"
   ]
  },
  {
   "cell_type": "code",
   "execution_count": 4,
   "id": "fc938969",
   "metadata": {},
   "outputs": [
    {
     "name": "stdout",
     "output_type": "stream",
     "text": [
      "['B', 'A', 'D']\n"
     ]
    }
   ],
   "source": [
    "#Q5. Wite a program to identify duplicate values from list.\n",
    "a = [\"A\",\"B\",\"B\",\"C\", \"A\",\"D\",\"E\", \"D\"]\n",
    "\n",
    "duplicate = [x for n, x in enumerate (a) if x in a[:n]]\n",
    "print (duplicate)"
   ]
  },
  {
   "cell_type": "code",
   "execution_count": null,
   "id": "d4544a4e",
   "metadata": {},
   "outputs": [
    {
     "name": "stdout",
     "output_type": "stream",
     "text": [
      "Enter key to check:1\n",
      "Key is present and value of the key is:\n",
      "Hira\n",
      "Enter key to check:4\n",
      "Key is present and value of the key is:\n",
      "Ali\n",
      "Enter key to check:5\n",
      "Key isn't present!\n"
     ]
    }
   ],
   "source": [
    "#Q6. Writ a python script to check if a given key already exists in a dictionary.\n",
    "dict={'1':'Hira', '2':'Mushtaq','3':'Ahmed','4':'Ali'}\n",
    "while True:\n",
    "    key=input(\"Enter key to check:\")\n",
    "    if key in dict.keys():\n",
    "      print(\"Key is present and value of the key is:\")\n",
    "      print(dict[key])\n",
    "    else:\n",
    "         print(\"Key isn't present!\") "
   ]
  },
  {
   "cell_type": "code",
   "execution_count": null,
   "id": "37009e48",
   "metadata": {},
   "outputs": [],
   "source": []
  }
 ],
 "metadata": {
  "kernelspec": {
   "display_name": "Python 3",
   "language": "python",
   "name": "python3"
  },
  "language_info": {
   "codemirror_mode": {
    "name": "ipython",
    "version": 3
   },
   "file_extension": ".py",
   "mimetype": "text/x-python",
   "name": "python",
   "nbconvert_exporter": "python",
   "pygments_lexer": "ipython3",
   "version": "3.8.8"
  }
 },
 "nbformat": 4,
 "nbformat_minor": 5
}
